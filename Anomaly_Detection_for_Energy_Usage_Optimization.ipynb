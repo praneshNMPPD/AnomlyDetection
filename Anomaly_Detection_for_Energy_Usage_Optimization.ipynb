{
  "cells": [
    {
      "cell_type": "markdown",
      "metadata": {
        "id": "uxEG3z6kqenC"
      },
      "source": [
        "# **Title: Anomaly Detection for Energy Usage Optimization**\n"
      ]
    },
    {
      "cell_type": "markdown",
      "metadata": {
        "id": "W7mJWixIq4xk"
      },
      "source": [
        "\n",
        "#**Problem Statement:**\n",
        "\n",
        "\n",
        "The project aims to develop an anomaly detection model to predict whether the energy usage in a building is anomalous or not. The significance of this project lies in the fact that anomalous energy usage implies energy wastage, which can have both environmental and economic implications. By identifying and addressing such instances, we can significantly contribute to energy conservation and cost reduction."
      ]
    },
    {
      "cell_type": "markdown",
      "metadata": {
        "id": "hc6_ibogui4w"
      },
      "source": [
        "# **Dataset Description**\n",
        "\n",
        "**train.csv**\n",
        "\n",
        "*building_id* - Unique building id code.\n",
        "\n",
        "*timestamp* - When the measurement was taken\n",
        "\n",
        "*meter_reading*- Electricity consumption in kWh.\n",
        "\n",
        "*anomaly* - Whether this reading is anomalous (1) or not (0)."
      ]
    },
    {
      "cell_type": "code",
      "execution_count": null,
      "metadata": {
        "colab": {
          "base_uri": "https://localhost:8080/"
        },
        "id": "c_Or6YuKiFIA",
        "outputId": "0eb93678-2b17-44d4-895e-3f6bd60326eb"
      },
      "outputs": [
        {
          "output_type": "stream",
          "name": "stdout",
          "text": [
            "Requirement already satisfied: pyspark in /usr/local/lib/python3.10/dist-packages (3.5.0)\n",
            "Requirement already satisfied: py4j==0.10.9.7 in /usr/local/lib/python3.10/dist-packages (from pyspark) (0.10.9.7)\n"
          ]
        }
      ],
      "source": [
        "!pip install pyspark"
      ]
    },
    {
      "cell_type": "code",
      "execution_count": null,
      "metadata": {
        "colab": {
          "base_uri": "https://localhost:8080/"
        },
        "id": "5kZAz9iyak9s",
        "outputId": "d14d6e61-1435-4726-c7f8-4808d0806951"
      },
      "outputs": [
        {
          "output_type": "stream",
          "name": "stdout",
          "text": [
            "Collecting gradio\n",
            "  Downloading gradio-4.0.2-py3-none-any.whl (25.3 MB)\n",
            "\u001b[2K     \u001b[90m━━━━━━━━━━━━━━━━━━━━━━━━━━━━━━━━━━━━━━━━\u001b[0m \u001b[32m25.3/25.3 MB\u001b[0m \u001b[31m42.9 MB/s\u001b[0m eta \u001b[36m0:00:00\u001b[0m\n",
            "\u001b[?25hCollecting aiofiles<24.0,>=22.0 (from gradio)\n",
            "  Downloading aiofiles-23.2.1-py3-none-any.whl (15 kB)\n",
            "Requirement already satisfied: altair<6.0,>=4.2.0 in /usr/local/lib/python3.10/dist-packages (from gradio) (4.2.2)\n",
            "Collecting fastapi (from gradio)\n",
            "  Downloading fastapi-0.104.1-py3-none-any.whl (92 kB)\n",
            "\u001b[2K     \u001b[90m━━━━━━━━━━━━━━━━━━━━━━━━━━━━━━━━━━━━━━━━\u001b[0m \u001b[32m92.9/92.9 kB\u001b[0m \u001b[31m7.7 MB/s\u001b[0m eta \u001b[36m0:00:00\u001b[0m\n",
            "\u001b[?25hCollecting ffmpy (from gradio)\n",
            "  Downloading ffmpy-0.3.1.tar.gz (5.5 kB)\n",
            "  Preparing metadata (setup.py) ... \u001b[?25l\u001b[?25hdone\n",
            "Collecting gradio-client==0.7.0 (from gradio)\n",
            "  Downloading gradio_client-0.7.0-py3-none-any.whl (302 kB)\n",
            "\u001b[2K     \u001b[90m━━━━━━━━━━━━━━━━━━━━━━━━━━━━━━━━━━━━━━━━\u001b[0m \u001b[32m302.7/302.7 kB\u001b[0m \u001b[31m32.2 MB/s\u001b[0m eta \u001b[36m0:00:00\u001b[0m\n",
            "\u001b[?25hCollecting httpx (from gradio)\n",
            "  Downloading httpx-0.25.0-py3-none-any.whl (75 kB)\n",
            "\u001b[2K     \u001b[90m━━━━━━━━━━━━━━━━━━━━━━━━━━━━━━━━━━━━━━━━\u001b[0m \u001b[32m75.7/75.7 kB\u001b[0m \u001b[31m10.0 MB/s\u001b[0m eta \u001b[36m0:00:00\u001b[0m\n",
            "\u001b[?25hCollecting huggingface-hub>=0.14.0 (from gradio)\n",
            "  Downloading huggingface_hub-0.18.0-py3-none-any.whl (301 kB)\n",
            "\u001b[2K     \u001b[90m━━━━━━━━━━━━━━━━━━━━━━━━━━━━━━━━━━━━━━━━\u001b[0m \u001b[32m302.0/302.0 kB\u001b[0m \u001b[31m27.2 MB/s\u001b[0m eta \u001b[36m0:00:00\u001b[0m\n",
            "\u001b[?25hRequirement already satisfied: importlib-resources<7.0,>=1.3 in /usr/local/lib/python3.10/dist-packages (from gradio) (6.1.0)\n",
            "Requirement already satisfied: jinja2<4.0 in /usr/local/lib/python3.10/dist-packages (from gradio) (3.1.2)\n",
            "Requirement already satisfied: markupsafe~=2.0 in /usr/local/lib/python3.10/dist-packages (from gradio) (2.1.3)\n",
            "Requirement already satisfied: matplotlib~=3.0 in /usr/local/lib/python3.10/dist-packages (from gradio) (3.7.1)\n",
            "Requirement already satisfied: numpy~=1.0 in /usr/local/lib/python3.10/dist-packages (from gradio) (1.23.5)\n",
            "Collecting orjson~=3.0 (from gradio)\n",
            "  Downloading orjson-3.9.10-cp310-cp310-manylinux_2_17_x86_64.manylinux2014_x86_64.whl (138 kB)\n",
            "\u001b[2K     \u001b[90m━━━━━━━━━━━━━━━━━━━━━━━━━━━━━━━━━━━━━━━━\u001b[0m \u001b[32m138.7/138.7 kB\u001b[0m \u001b[31m12.6 MB/s\u001b[0m eta \u001b[36m0:00:00\u001b[0m\n",
            "\u001b[?25hRequirement already satisfied: packaging in /usr/local/lib/python3.10/dist-packages (from gradio) (23.2)\n",
            "Requirement already satisfied: pandas<3.0,>=1.0 in /usr/local/lib/python3.10/dist-packages (from gradio) (1.5.3)\n",
            "Requirement already satisfied: pillow<11.0,>=8.0 in /usr/local/lib/python3.10/dist-packages (from gradio) (9.4.0)\n",
            "Collecting pydantic>=2.0 (from gradio)\n",
            "  Downloading pydantic-2.4.2-py3-none-any.whl (395 kB)\n",
            "\u001b[2K     \u001b[90m━━━━━━━━━━━━━━━━━━━━━━━━━━━━━━━━━━━━━━━━\u001b[0m \u001b[32m395.8/395.8 kB\u001b[0m \u001b[31m38.6 MB/s\u001b[0m eta \u001b[36m0:00:00\u001b[0m\n",
            "\u001b[?25hCollecting pydub (from gradio)\n",
            "  Downloading pydub-0.25.1-py2.py3-none-any.whl (32 kB)\n",
            "Collecting python-multipart (from gradio)\n",
            "  Downloading python_multipart-0.0.6-py3-none-any.whl (45 kB)\n",
            "\u001b[2K     \u001b[90m━━━━━━━━━━━━━━━━━━━━━━━━━━━━━━━━━━━━━━━━\u001b[0m \u001b[32m45.7/45.7 kB\u001b[0m \u001b[31m6.6 MB/s\u001b[0m eta \u001b[36m0:00:00\u001b[0m\n",
            "\u001b[?25hRequirement already satisfied: pyyaml<7.0,>=5.0 in /usr/local/lib/python3.10/dist-packages (from gradio) (6.0.1)\n",
            "Requirement already satisfied: requests~=2.0 in /usr/local/lib/python3.10/dist-packages (from gradio) (2.31.0)\n",
            "Collecting semantic-version~=2.0 (from gradio)\n",
            "  Downloading semantic_version-2.10.0-py2.py3-none-any.whl (15 kB)\n",
            "Collecting tomlkit==0.12.0 (from gradio)\n",
            "  Downloading tomlkit-0.12.0-py3-none-any.whl (37 kB)\n",
            "Requirement already satisfied: typer[all]<1.0,>=0.9 in /usr/local/lib/python3.10/dist-packages (from gradio) (0.9.0)\n",
            "Requirement already satisfied: typing-extensions~=4.0 in /usr/local/lib/python3.10/dist-packages (from gradio) (4.5.0)\n",
            "Collecting uvicorn>=0.14.0 (from gradio)\n",
            "  Downloading uvicorn-0.23.2-py3-none-any.whl (59 kB)\n",
            "\u001b[2K     \u001b[90m━━━━━━━━━━━━━━━━━━━━━━━━━━━━━━━━━━━━━━━━\u001b[0m \u001b[32m59.5/59.5 kB\u001b[0m \u001b[31m8.1 MB/s\u001b[0m eta \u001b[36m0:00:00\u001b[0m\n",
            "\u001b[?25hCollecting websockets<12.0,>=10.0 (from gradio)\n",
            "  Downloading websockets-11.0.3-cp310-cp310-manylinux_2_5_x86_64.manylinux1_x86_64.manylinux_2_17_x86_64.manylinux2014_x86_64.whl (129 kB)\n",
            "\u001b[2K     \u001b[90m━━━━━━━━━━━━━━━━━━━━━━━━━━━━━━━━━━━━━━━━\u001b[0m \u001b[32m129.9/129.9 kB\u001b[0m \u001b[31m17.2 MB/s\u001b[0m eta \u001b[36m0:00:00\u001b[0m\n",
            "\u001b[?25hRequirement already satisfied: fsspec in /usr/local/lib/python3.10/dist-packages (from gradio-client==0.7.0->gradio) (2023.6.0)\n",
            "Requirement already satisfied: entrypoints in /usr/local/lib/python3.10/dist-packages (from altair<6.0,>=4.2.0->gradio) (0.4)\n",
            "Requirement already satisfied: jsonschema>=3.0 in /usr/local/lib/python3.10/dist-packages (from altair<6.0,>=4.2.0->gradio) (4.19.1)\n",
            "Requirement already satisfied: toolz in /usr/local/lib/python3.10/dist-packages (from altair<6.0,>=4.2.0->gradio) (0.12.0)\n",
            "Requirement already satisfied: filelock in /usr/local/lib/python3.10/dist-packages (from huggingface-hub>=0.14.0->gradio) (3.12.4)\n",
            "Requirement already satisfied: tqdm>=4.42.1 in /usr/local/lib/python3.10/dist-packages (from huggingface-hub>=0.14.0->gradio) (4.66.1)\n",
            "Requirement already satisfied: contourpy>=1.0.1 in /usr/local/lib/python3.10/dist-packages (from matplotlib~=3.0->gradio) (1.1.1)\n",
            "Requirement already satisfied: cycler>=0.10 in /usr/local/lib/python3.10/dist-packages (from matplotlib~=3.0->gradio) (0.12.1)\n",
            "Requirement already satisfied: fonttools>=4.22.0 in /usr/local/lib/python3.10/dist-packages (from matplotlib~=3.0->gradio) (4.43.1)\n",
            "Requirement already satisfied: kiwisolver>=1.0.1 in /usr/local/lib/python3.10/dist-packages (from matplotlib~=3.0->gradio) (1.4.5)\n",
            "Requirement already satisfied: pyparsing>=2.3.1 in /usr/local/lib/python3.10/dist-packages (from matplotlib~=3.0->gradio) (3.1.1)\n",
            "Requirement already satisfied: python-dateutil>=2.7 in /usr/local/lib/python3.10/dist-packages (from matplotlib~=3.0->gradio) (2.8.2)\n",
            "Requirement already satisfied: pytz>=2020.1 in /usr/local/lib/python3.10/dist-packages (from pandas<3.0,>=1.0->gradio) (2023.3.post1)\n",
            "Collecting annotated-types>=0.4.0 (from pydantic>=2.0->gradio)\n",
            "  Downloading annotated_types-0.6.0-py3-none-any.whl (12 kB)\n",
            "Collecting pydantic-core==2.10.1 (from pydantic>=2.0->gradio)\n",
            "  Downloading pydantic_core-2.10.1-cp310-cp310-manylinux_2_17_x86_64.manylinux2014_x86_64.whl (2.0 MB)\n",
            "\u001b[2K     \u001b[90m━━━━━━━━━━━━━━━━━━━━━━━━━━━━━━━━━━━━━━━━\u001b[0m \u001b[32m2.0/2.0 MB\u001b[0m \u001b[31m32.8 MB/s\u001b[0m eta \u001b[36m0:00:00\u001b[0m\n",
            "\u001b[?25hCollecting typing-extensions~=4.0 (from gradio)\n",
            "  Downloading typing_extensions-4.8.0-py3-none-any.whl (31 kB)\n",
            "Requirement already satisfied: charset-normalizer<4,>=2 in /usr/local/lib/python3.10/dist-packages (from requests~=2.0->gradio) (3.3.1)\n",
            "Requirement already satisfied: idna<4,>=2.5 in /usr/local/lib/python3.10/dist-packages (from requests~=2.0->gradio) (3.4)\n",
            "Requirement already satisfied: urllib3<3,>=1.21.1 in /usr/local/lib/python3.10/dist-packages (from requests~=2.0->gradio) (2.0.7)\n",
            "Requirement already satisfied: certifi>=2017.4.17 in /usr/local/lib/python3.10/dist-packages (from requests~=2.0->gradio) (2023.7.22)\n",
            "Requirement already satisfied: click<9.0.0,>=7.1.1 in /usr/local/lib/python3.10/dist-packages (from typer[all]<1.0,>=0.9->gradio) (8.1.7)\n",
            "Collecting colorama<0.5.0,>=0.4.3 (from typer[all]<1.0,>=0.9->gradio)\n",
            "  Downloading colorama-0.4.6-py2.py3-none-any.whl (25 kB)\n",
            "Collecting shellingham<2.0.0,>=1.3.0 (from typer[all]<1.0,>=0.9->gradio)\n",
            "  Downloading shellingham-1.5.4-py2.py3-none-any.whl (9.8 kB)\n",
            "Requirement already satisfied: rich<14.0.0,>=10.11.0 in /usr/local/lib/python3.10/dist-packages (from typer[all]<1.0,>=0.9->gradio) (13.6.0)\n",
            "Collecting h11>=0.8 (from uvicorn>=0.14.0->gradio)\n",
            "  Downloading h11-0.14.0-py3-none-any.whl (58 kB)\n",
            "\u001b[2K     \u001b[90m━━━━━━━━━━━━━━━━━━━━━━━━━━━━━━━━━━━━━━━━\u001b[0m \u001b[32m58.3/58.3 kB\u001b[0m \u001b[31m6.4 MB/s\u001b[0m eta \u001b[36m0:00:00\u001b[0m\n",
            "\u001b[?25hRequirement already satisfied: anyio<4.0.0,>=3.7.1 in /usr/local/lib/python3.10/dist-packages (from fastapi->gradio) (3.7.1)\n",
            "Collecting starlette<0.28.0,>=0.27.0 (from fastapi->gradio)\n",
            "  Downloading starlette-0.27.0-py3-none-any.whl (66 kB)\n",
            "\u001b[2K     \u001b[90m━━━━━━━━━━━━━━━━━━━━━━━━━━━━━━━━━━━━━━━━\u001b[0m \u001b[32m67.0/67.0 kB\u001b[0m \u001b[31m7.7 MB/s\u001b[0m eta \u001b[36m0:00:00\u001b[0m\n",
            "\u001b[?25hCollecting httpcore<0.19.0,>=0.18.0 (from httpx->gradio)\n",
            "  Downloading httpcore-0.18.0-py3-none-any.whl (76 kB)\n",
            "\u001b[2K     \u001b[90m━━━━━━━━━━━━━━━━━━━━━━━━━━━━━━━━━━━━━━━━\u001b[0m \u001b[32m76.0/76.0 kB\u001b[0m \u001b[31m10.8 MB/s\u001b[0m eta \u001b[36m0:00:00\u001b[0m\n",
            "\u001b[?25hRequirement already satisfied: sniffio in /usr/local/lib/python3.10/dist-packages (from httpx->gradio) (1.3.0)\n",
            "Requirement already satisfied: exceptiongroup in /usr/local/lib/python3.10/dist-packages (from anyio<4.0.0,>=3.7.1->fastapi->gradio) (1.1.3)\n",
            "Requirement already satisfied: attrs>=22.2.0 in /usr/local/lib/python3.10/dist-packages (from jsonschema>=3.0->altair<6.0,>=4.2.0->gradio) (23.1.0)\n",
            "Requirement already satisfied: jsonschema-specifications>=2023.03.6 in /usr/local/lib/python3.10/dist-packages (from jsonschema>=3.0->altair<6.0,>=4.2.0->gradio) (2023.7.1)\n",
            "Requirement already satisfied: referencing>=0.28.4 in /usr/local/lib/python3.10/dist-packages (from jsonschema>=3.0->altair<6.0,>=4.2.0->gradio) (0.30.2)\n",
            "Requirement already satisfied: rpds-py>=0.7.1 in /usr/local/lib/python3.10/dist-packages (from jsonschema>=3.0->altair<6.0,>=4.2.0->gradio) (0.10.6)\n",
            "Requirement already satisfied: six>=1.5 in /usr/local/lib/python3.10/dist-packages (from python-dateutil>=2.7->matplotlib~=3.0->gradio) (1.16.0)\n",
            "Requirement already satisfied: markdown-it-py>=2.2.0 in /usr/local/lib/python3.10/dist-packages (from rich<14.0.0,>=10.11.0->typer[all]<1.0,>=0.9->gradio) (3.0.0)\n",
            "Requirement already satisfied: pygments<3.0.0,>=2.13.0 in /usr/local/lib/python3.10/dist-packages (from rich<14.0.0,>=10.11.0->typer[all]<1.0,>=0.9->gradio) (2.16.1)\n",
            "Requirement already satisfied: mdurl~=0.1 in /usr/local/lib/python3.10/dist-packages (from markdown-it-py>=2.2.0->rich<14.0.0,>=10.11.0->typer[all]<1.0,>=0.9->gradio) (0.1.2)\n",
            "Building wheels for collected packages: ffmpy\n",
            "  Building wheel for ffmpy (setup.py) ... \u001b[?25l\u001b[?25hdone\n",
            "  Created wheel for ffmpy: filename=ffmpy-0.3.1-py3-none-any.whl size=5579 sha256=3d96135b0b75e4a0d13aab5e75dbe385230004b5684b9b04ea3bb65b09d46350\n",
            "  Stored in directory: /root/.cache/pip/wheels/01/a6/d1/1c0828c304a4283b2c1639a09ad86f83d7c487ef34c6b4a1bf\n",
            "Successfully built ffmpy\n",
            "Installing collected packages: pydub, ffmpy, websockets, typing-extensions, tomlkit, shellingham, semantic-version, python-multipart, orjson, h11, colorama, annotated-types, aiofiles, uvicorn, starlette, pydantic-core, huggingface-hub, httpcore, pydantic, httpx, gradio-client, fastapi, gradio\n",
            "  Attempting uninstall: typing-extensions\n",
            "    Found existing installation: typing_extensions 4.5.0\n",
            "    Uninstalling typing_extensions-4.5.0:\n",
            "      Successfully uninstalled typing_extensions-4.5.0\n",
            "  Attempting uninstall: pydantic\n",
            "    Found existing installation: pydantic 1.10.13\n",
            "    Uninstalling pydantic-1.10.13:\n",
            "      Successfully uninstalled pydantic-1.10.13\n",
            "\u001b[31mERROR: pip's dependency resolver does not currently take into account all the packages that are installed. This behaviour is the source of the following dependency conflicts.\n",
            "lida 0.0.10 requires kaleido, which is not installed.\n",
            "llmx 0.0.15a0 requires cohere, which is not installed.\n",
            "llmx 0.0.15a0 requires openai, which is not installed.\n",
            "llmx 0.0.15a0 requires tiktoken, which is not installed.\n",
            "tensorflow-probability 0.22.0 requires typing-extensions<4.6.0, but you have typing-extensions 4.8.0 which is incompatible.\u001b[0m\u001b[31m\n",
            "\u001b[0mSuccessfully installed aiofiles-23.2.1 annotated-types-0.6.0 colorama-0.4.6 fastapi-0.104.1 ffmpy-0.3.1 gradio-4.0.2 gradio-client-0.7.0 h11-0.14.0 httpcore-0.18.0 httpx-0.25.0 huggingface-hub-0.18.0 orjson-3.9.10 pydantic-2.4.2 pydantic-core-2.10.1 pydub-0.25.1 python-multipart-0.0.6 semantic-version-2.10.0 shellingham-1.5.4 starlette-0.27.0 tomlkit-0.12.0 typing-extensions-4.8.0 uvicorn-0.23.2 websockets-11.0.3\n"
          ]
        }
      ],
      "source": [
        "!pip install gradio"
      ]
    },
    {
      "cell_type": "code",
      "execution_count": null,
      "metadata": {
        "id": "ZF3nwhCkiKDS"
      },
      "outputs": [],
      "source": [
        "from pyspark.sql import SparkSession\n",
        "from pyspark.sql.functions import col, split, substring, when\n",
        "from pyspark.sql.types import IntegerType\n",
        "from datetime import datetime"
      ]
    },
    {
      "cell_type": "code",
      "execution_count": null,
      "metadata": {
        "colab": {
          "base_uri": "https://localhost:8080/"
        },
        "id": "FwJE1RQ4iVMB",
        "outputId": "b438de81-ab23-4344-d32b-0eaa626f5f73"
      },
      "outputs": [
        {
          "output_type": "stream",
          "name": "stdout",
          "text": [
            "+-----------+-------------------+-------------+-------+\n",
            "|building_id|          timestamp|meter_reading|anomaly|\n",
            "+-----------+-------------------+-------------+-------+\n",
            "|          1|2016-01-01 00:00:00|         NULL|      0|\n",
            "|         32|2016-01-01 00:00:00|         NULL|      0|\n",
            "|         41|2016-01-01 00:00:00|         NULL|      0|\n",
            "|         55|2016-01-01 00:00:00|         NULL|      0|\n",
            "|         69|2016-01-01 00:00:00|         NULL|      0|\n",
            "|         79|2016-01-01 00:00:00|         NULL|      0|\n",
            "|         82|2016-01-01 00:00:00|         NULL|      0|\n",
            "|         91|2016-01-01 00:00:00|         NULL|      0|\n",
            "|        107|2016-01-01 00:00:00|      175.184|      1|\n",
            "|        108|2016-01-01 00:00:00|         NULL|      0|\n",
            "|        111|2016-01-01 00:00:00|      167.392|      1|\n",
            "|        112|2016-01-01 00:00:00|       10.275|      0|\n",
            "|        117|2016-01-01 00:00:00|       16.306|      0|\n",
            "|        118|2016-01-01 00:00:00|        117.2|      0|\n",
            "|        119|2016-01-01 00:00:00|      219.204|      0|\n",
            "|        121|2016-01-01 00:00:00|        229.0|      0|\n",
            "|        136|2016-01-01 00:00:00|         NULL|      0|\n",
            "|        137|2016-01-01 00:00:00|        14.25|      0|\n",
            "|        139|2016-01-01 00:00:00|       12.607|      0|\n",
            "|        141|2016-01-01 00:00:00|       20.648|      1|\n",
            "+-----------+-------------------+-------------+-------+\n",
            "only showing top 20 rows\n",
            "\n"
          ]
        }
      ],
      "source": [
        "spark = SparkSession.builder.appName(\"EnergyAnomalyDetection\").getOrCreate()\n",
        "\n",
        "train = spark.read.csv('/content/Anomaly.csv', header=True, inferSchema=True)\n",
        "\n",
        "train.show()"
      ]
    },
    {
      "cell_type": "code",
      "execution_count": null,
      "metadata": {
        "colab": {
          "base_uri": "https://localhost:8080/"
        },
        "id": "NrO512NiinU6",
        "outputId": "a6e42e3c-6c00-4156-ce21-e171b28ba4a9"
      },
      "outputs": [
        {
          "output_type": "stream",
          "name": "stdout",
          "text": [
            "Shape: (1749494, 4)\n"
          ]
        }
      ],
      "source": [
        "print(\"Shape:\", (train.count(), len(train.columns)))"
      ]
    },
    {
      "cell_type": "code",
      "execution_count": null,
      "metadata": {
        "colab": {
          "base_uri": "https://localhost:8080/"
        },
        "id": "rmAXThBsjhLU",
        "outputId": "5098dfad-1966-4d41-c11f-47b66ba6550b"
      },
      "outputs": [
        {
          "output_type": "stream",
          "name": "stdout",
          "text": [
            "+-----------+-------------------+-------------+-------+\n",
            "|building_id|          timestamp|meter_reading|anomaly|\n",
            "+-----------+-------------------+-------------+-------+\n",
            "|          1|2016-01-01 00:00:00|          0.0|      0|\n",
            "|         32|2016-01-01 00:00:00|          0.0|      0|\n",
            "|         41|2016-01-01 00:00:00|          0.0|      0|\n",
            "|         55|2016-01-01 00:00:00|          0.0|      0|\n",
            "|         69|2016-01-01 00:00:00|          0.0|      0|\n",
            "|         79|2016-01-01 00:00:00|          0.0|      0|\n",
            "|         82|2016-01-01 00:00:00|          0.0|      0|\n",
            "|         91|2016-01-01 00:00:00|          0.0|      0|\n",
            "|        107|2016-01-01 00:00:00|      175.184|      1|\n",
            "|        108|2016-01-01 00:00:00|          0.0|      0|\n",
            "|        111|2016-01-01 00:00:00|      167.392|      1|\n",
            "|        112|2016-01-01 00:00:00|       10.275|      0|\n",
            "|        117|2016-01-01 00:00:00|       16.306|      0|\n",
            "|        118|2016-01-01 00:00:00|        117.2|      0|\n",
            "|        119|2016-01-01 00:00:00|      219.204|      0|\n",
            "|        121|2016-01-01 00:00:00|        229.0|      0|\n",
            "|        136|2016-01-01 00:00:00|          0.0|      0|\n",
            "|        137|2016-01-01 00:00:00|        14.25|      0|\n",
            "|        139|2016-01-01 00:00:00|       12.607|      0|\n",
            "|        141|2016-01-01 00:00:00|       20.648|      1|\n",
            "+-----------+-------------------+-------------+-------+\n",
            "only showing top 20 rows\n",
            "\n"
          ]
        }
      ],
      "source": [
        "train.select([col(c).alias(c) for c in train.columns]).na.fill(0).show()"
      ]
    },
    {
      "cell_type": "code",
      "execution_count": null,
      "metadata": {
        "colab": {
          "base_uri": "https://localhost:8080/"
        },
        "id": "jNx6Ld-gjyIU",
        "outputId": "3f3ec2c7-c30a-472e-d913-f465f7cf667e"
      },
      "outputs": [
        {
          "output_type": "stream",
          "name": "stdout",
          "text": [
            "+-----------+-------------+-------+----------+----+\n",
            "|building_id|meter_reading|anomaly|      date|time|\n",
            "+-----------+-------------+-------+----------+----+\n",
            "|          1|         NULL|      0|2016-01-01|   0|\n",
            "|         32|         NULL|      0|2016-01-01|   0|\n",
            "|         41|         NULL|      0|2016-01-01|   0|\n",
            "|         55|         NULL|      0|2016-01-01|   0|\n",
            "|         69|         NULL|      0|2016-01-01|   0|\n",
            "|         79|         NULL|      0|2016-01-01|   0|\n",
            "|         82|         NULL|      0|2016-01-01|   0|\n",
            "|         91|         NULL|      0|2016-01-01|   0|\n",
            "|        107|      175.184|      1|2016-01-01|   0|\n",
            "|        108|         NULL|      0|2016-01-01|   0|\n",
            "|        111|      167.392|      1|2016-01-01|   0|\n",
            "|        112|       10.275|      0|2016-01-01|   0|\n",
            "|        117|       16.306|      0|2016-01-01|   0|\n",
            "|        118|        117.2|      0|2016-01-01|   0|\n",
            "|        119|      219.204|      0|2016-01-01|   0|\n",
            "|        121|        229.0|      0|2016-01-01|   0|\n",
            "|        136|         NULL|      0|2016-01-01|   0|\n",
            "|        137|        14.25|      0|2016-01-01|   0|\n",
            "|        139|       12.607|      0|2016-01-01|   0|\n",
            "|        141|       20.648|      1|2016-01-01|   0|\n",
            "+-----------+-------------+-------+----------+----+\n",
            "only showing top 20 rows\n",
            "\n"
          ]
        }
      ],
      "source": [
        "train = train.withColumn(\"new\", split(train[\"timestamp\"], \" \"))\n",
        "train = train.withColumn(\"date\", col(\"new\")[0])\n",
        "train = train.withColumn(\"time\", substring(col(\"new\")[1], 0, 2).cast(IntegerType()))\n",
        "train = train.drop(\"new\", \"timestamp\")\n",
        "train.show()"
      ]
    },
    {
      "cell_type": "code",
      "execution_count": null,
      "metadata": {
        "colab": {
          "base_uri": "https://localhost:8080/"
        },
        "id": "vOc3mIdIj4dc",
        "outputId": "760fd56d-e7b7-43b1-f7dc-2806934e567e"
      },
      "outputs": [
        {
          "output_type": "stream",
          "name": "stdout",
          "text": [
            "+-----------+------------------+-------+----------+----+\n",
            "|building_id|     meter_reading|anomaly|      date|time|\n",
            "+-----------+------------------+-------+----------+----+\n",
            "|        1.0|179.90183767127465|    0.0|2016-01-01| 0.0|\n",
            "|       32.0|179.90183767127465|    0.0|2016-01-01| 0.0|\n",
            "|       41.0|179.90183767127465|    0.0|2016-01-01| 0.0|\n",
            "|       55.0|179.90183767127465|    0.0|2016-01-01| 0.0|\n",
            "|       69.0|179.90183767127465|    0.0|2016-01-01| 0.0|\n",
            "|       79.0|179.90183767127465|    0.0|2016-01-01| 0.0|\n",
            "|       82.0|179.90183767127465|    0.0|2016-01-01| 0.0|\n",
            "|       91.0|179.90183767127465|    0.0|2016-01-01| 0.0|\n",
            "|      107.0|           175.184|    1.0|2016-01-01| 0.0|\n",
            "|      108.0|179.90183767127465|    0.0|2016-01-01| 0.0|\n",
            "|      111.0|           167.392|    1.0|2016-01-01| 0.0|\n",
            "|      112.0|            10.275|    0.0|2016-01-01| 0.0|\n",
            "|      117.0|            16.306|    0.0|2016-01-01| 0.0|\n",
            "|      118.0|             117.2|    0.0|2016-01-01| 0.0|\n",
            "|      119.0|           219.204|    0.0|2016-01-01| 0.0|\n",
            "|      121.0|             229.0|    0.0|2016-01-01| 0.0|\n",
            "|      136.0|179.90183767127465|    0.0|2016-01-01| 0.0|\n",
            "|      137.0|             14.25|    0.0|2016-01-01| 0.0|\n",
            "|      139.0|            12.607|    0.0|2016-01-01| 0.0|\n",
            "|      141.0|            20.648|    1.0|2016-01-01| 0.0|\n",
            "+-----------+------------------+-------+----------+----+\n",
            "only showing top 20 rows\n",
            "\n"
          ]
        }
      ],
      "source": [
        "from pyspark.sql.functions import mean\n",
        "numeric_columns = [col_name for col_name, data_type in train.dtypes if data_type in ['double', 'float', 'int']]\n",
        "mean_values = train.select([mean(col(column)).alias(column) for column in numeric_columns]).collect()[0].asDict()\n",
        "\n",
        "for column in numeric_columns:\n",
        "    train = train.withColumn(column, when(col(column).isNull(), mean_values[column]).otherwise(col(column)))\n",
        "\n",
        "train.show()"
      ]
    },
    {
      "cell_type": "code",
      "execution_count": null,
      "metadata": {
        "colab": {
          "base_uri": "https://localhost:8080/"
        },
        "id": "J-ERKfeIllbO",
        "outputId": "f3208d51-ed02-4b86-9718-6d48f0f08607"
      },
      "outputs": [
        {
          "output_type": "stream",
          "name": "stdout",
          "text": [
            "+-----------+------------------+-------+----+-----+---+\n",
            "|building_id|     meter_reading|anomaly|time|month|day|\n",
            "+-----------+------------------+-------+----+-----+---+\n",
            "|        1.0|179.90183767127465|    0.0| 0.0|    1|  1|\n",
            "|       32.0|179.90183767127465|    0.0| 0.0|    1|  1|\n",
            "|       41.0|179.90183767127465|    0.0| 0.0|    1|  1|\n",
            "|       55.0|179.90183767127465|    0.0| 0.0|    1|  1|\n",
            "|       69.0|179.90183767127465|    0.0| 0.0|    1|  1|\n",
            "|       79.0|179.90183767127465|    0.0| 0.0|    1|  1|\n",
            "|       82.0|179.90183767127465|    0.0| 0.0|    1|  1|\n",
            "|       91.0|179.90183767127465|    0.0| 0.0|    1|  1|\n",
            "|      107.0|           175.184|    1.0| 0.0|    1|  1|\n",
            "|      108.0|179.90183767127465|    0.0| 0.0|    1|  1|\n",
            "|      111.0|           167.392|    1.0| 0.0|    1|  1|\n",
            "|      112.0|            10.275|    0.0| 0.0|    1|  1|\n",
            "|      117.0|            16.306|    0.0| 0.0|    1|  1|\n",
            "|      118.0|             117.2|    0.0| 0.0|    1|  1|\n",
            "|      119.0|           219.204|    0.0| 0.0|    1|  1|\n",
            "|      121.0|             229.0|    0.0| 0.0|    1|  1|\n",
            "|      136.0|179.90183767127465|    0.0| 0.0|    1|  1|\n",
            "|      137.0|             14.25|    0.0| 0.0|    1|  1|\n",
            "|      139.0|            12.607|    0.0| 0.0|    1|  1|\n",
            "|      141.0|            20.648|    1.0| 0.0|    1|  1|\n",
            "+-----------+------------------+-------+----+-----+---+\n",
            "only showing top 20 rows\n",
            "\n"
          ]
        }
      ],
      "source": [
        "train = train.withColumn(\"month\", substring(col(\"date\"), 6, 2).cast(IntegerType()))\n",
        "train = train.withColumn(\"day\", substring(col(\"date\"), -2, 2).cast(IntegerType()))\n",
        "train = train.drop(\"date\")\n",
        "\n",
        "train.show()"
      ]
    },
    {
      "cell_type": "code",
      "execution_count": null,
      "metadata": {
        "colab": {
          "base_uri": "https://localhost:8080/"
        },
        "id": "mg6sRaGIPueH",
        "outputId": "e821e6c7-a219-4303-fbec-e858b394d8b3"
      },
      "outputs": [
        {
          "output_type": "stream",
          "name": "stdout",
          "text": [
            "+-----------+------------------+-------+----+-----+---+-------+\n",
            "|building_id|     meter_reading|anomaly|time|month|day|weekend|\n",
            "+-----------+------------------+-------+----+-----+---+-------+\n",
            "|        1.0|179.90183767127465|    0.0| 0.0|    1|  1|      0|\n",
            "|       32.0|179.90183767127465|    0.0| 0.0|    1|  1|      0|\n",
            "|       41.0|179.90183767127465|    0.0| 0.0|    1|  1|      0|\n",
            "|       55.0|179.90183767127465|    0.0| 0.0|    1|  1|      0|\n",
            "|       69.0|179.90183767127465|    0.0| 0.0|    1|  1|      0|\n",
            "|       79.0|179.90183767127465|    0.0| 0.0|    1|  1|      0|\n",
            "|       82.0|179.90183767127465|    0.0| 0.0|    1|  1|      0|\n",
            "|       91.0|179.90183767127465|    0.0| 0.0|    1|  1|      0|\n",
            "|      107.0|           175.184|    1.0| 0.0|    1|  1|      0|\n",
            "|      108.0|179.90183767127465|    0.0| 0.0|    1|  1|      0|\n",
            "|      111.0|           167.392|    1.0| 0.0|    1|  1|      0|\n",
            "|      112.0|            10.275|    0.0| 0.0|    1|  1|      0|\n",
            "|      117.0|            16.306|    0.0| 0.0|    1|  1|      0|\n",
            "|      118.0|             117.2|    0.0| 0.0|    1|  1|      0|\n",
            "|      119.0|           219.204|    0.0| 0.0|    1|  1|      0|\n",
            "|      121.0|             229.0|    0.0| 0.0|    1|  1|      0|\n",
            "|      136.0|179.90183767127465|    0.0| 0.0|    1|  1|      0|\n",
            "|      137.0|             14.25|    0.0| 0.0|    1|  1|      0|\n",
            "|      139.0|            12.607|    0.0| 0.0|    1|  1|      0|\n",
            "|      141.0|            20.648|    1.0| 0.0|    1|  1|      0|\n",
            "+-----------+------------------+-------+----+-----+---+-------+\n",
            "only showing top 20 rows\n",
            "\n"
          ]
        }
      ],
      "source": [
        "from pyspark.sql.functions import udf\n",
        "import pyspark.sql.functions as F\n",
        "@udf(IntegerType())\n",
        "def weekend_or_weekday_udf(year, month, day):\n",
        "    try:\n",
        "        d = datetime(year, month, day)\n",
        "        if d.weekday() > 4:\n",
        "            return 1\n",
        "        else:\n",
        "            return 0\n",
        "    except ValueError:\n",
        "        return None\n",
        "\n",
        "train = train.withColumn(\"weekend\", weekend_or_weekday_udf(F.lit(2016), col(\"month\"), col(\"day\")))\n",
        "\n",
        "\n",
        "train = train.withColumn(\"weekend\", when(col(\"weekend\").isNull(), 0).otherwise(col(\"weekend\")))\n",
        "\n",
        "train.show()"
      ]
    },
    {
      "cell_type": "code",
      "execution_count": null,
      "metadata": {
        "colab": {
          "base_uri": "https://localhost:8080/",
          "height": 417
        },
        "id": "j7_3guRnmlfh",
        "outputId": "713f118c-e8df-479c-994c-0a433b13ca91"
      },
      "outputs": [
        {
          "output_type": "display_data",
          "data": {
            "text/plain": [
              "<Figure size 640x480 with 1 Axes>"
            ],
            "image/png": "[encoded data removed]"
          },
          "metadata": {}
        }
      ],
      "source": [
        "import matplotlib.pyplot as plt\n",
        "from pyspark.sql import SparkSession\n",
        "from pyspark.sql.functions import mean\n",
        "import numpy as np\n",
        "\n",
        "data = train.groupBy('weekend').agg(mean('meter_reading').alias('mean_meter_reading')).collect()\n",
        "\n",
        "weekend_mean = data[1]['mean_meter_reading']\n",
        "weekday_mean = data[0]['mean_meter_reading']\n",
        "\n",
        "labels = ['Weekday Mean Usage', 'Weekend Mean Usage']\n",
        "sizes = [weekday_mean, weekend_mean]\n",
        "colors = plt.cm.Paired(np.arange(len(labels)))\n",
        "\n",
        "plt.pie(sizes, labels=labels, colors=colors, autopct='%1.1f%%')\n",
        "plt.axis('equal')\n",
        "\n",
        "plt.show()\n"
      ]
    },
    {
      "cell_type": "code",
      "execution_count": null,
      "metadata": {
        "colab": {
          "base_uri": "https://localhost:8080/",
          "height": 450
        },
        "id": "5V1Iq9HUn0xJ",
        "outputId": "369e47e9-6752-459e-8df6-4233a1f1b447"
      },
      "outputs": [
        {
          "output_type": "display_data",
          "data": {
            "text/plain": [
              "<Figure size 1500x500 with 1 Axes>"
            ],
            "image/png": "[encoded data removed]"
          },
          "metadata": {}
        }
      ],
      "source": [
        "data = train.groupBy('month').agg(mean('meter_reading').alias('mean_meter_reading')).collect()\n",
        "\n",
        "months = [row['month'] for row in data]\n",
        "mean_readings = [row['mean_meter_reading'] for row in data]\n",
        "\n",
        "plt.figure(figsize=(15, 5))\n",
        "plt.bar(months, mean_readings)\n",
        "plt.title('Mean usage monthly.', fontsize=20)\n",
        "plt.xlabel('Month', fontsize=15)\n",
        "plt.ylabel('Mean Meter Reading', fontsize=15)\n",
        "plt.xticks(months)\n",
        "plt.show()"
      ]
    },
    {
      "cell_type": "code",
      "execution_count": null,
      "metadata": {
        "colab": {
          "base_uri": "https://localhost:8080/",
          "height": 450
        },
        "id": "x_XV9IXeoLzx",
        "outputId": "357be60f-8f94-4562-9007-b4b8b9da637d"
      },
      "outputs": [
        {
          "output_type": "display_data",
          "data": {
            "text/plain": [
              "<Figure size 1500x500 with 1 Axes>"
            ],
            "image/png": "[encoded data removed]"
          },
          "metadata": {}
        }
      ],
      "source": [
        "data = train.groupBy('day').agg(mean('meter_reading').alias('mean_meter_reading')).collect()\n",
        "\n",
        "days = [row['day'] for row in data]\n",
        "mean_readings = [row['mean_meter_reading'] for row in data]\n",
        "\n",
        "plt.figure(figsize=(15, 5))\n",
        "plt.bar(days, mean_readings)\n",
        "plt.title('Mean usage daily.', fontsize=20)\n",
        "plt.xlabel('Day', fontsize=15)\n",
        "plt.ylabel('Mean Meter Reading', fontsize=15)\n",
        "plt.xticks(days)\n",
        "plt.show()"
      ]
    },
    {
      "cell_type": "code",
      "execution_count": null,
      "metadata": {
        "colab": {
          "base_uri": "https://localhost:8080/"
        },
        "id": "kvfFiQygpEDY",
        "outputId": "b419336d-d71c-4761-ed0e-7fb4b897bfa9"
      },
      "outputs": [
        {
          "output_type": "stream",
          "name": "stdout",
          "text": [
            "Negative Shape: 1712198\n",
            "Positive Shape: 37296\n"
          ]
        }
      ],
      "source": [
        "neg = train.filter(train['anomaly'] == 0)\n",
        "pos = train.filter(train['anomaly'] == 1)\n",
        "\n",
        "neg_count = neg.count()\n",
        "pos_count = pos.count()\n",
        "\n",
        "print(\"Negative Shape:\", neg_count)\n",
        "print(\"Positive Shape:\", pos_count)"
      ]
    },
    {
      "cell_type": "code",
      "execution_count": null,
      "metadata": {
        "colab": {
          "base_uri": "https://localhost:8080/"
        },
        "id": "FydWH3uQFnZA",
        "outputId": "14ee4620-8f02-484e-e206-2fb2b1d6a609"
      },
      "outputs": [
        {
          "output_type": "stream",
          "name": "stdout",
          "text": [
            "+-----------+------------------+-------+----+-----+---+-------+\n",
            "|building_id|     meter_reading|anomaly|time|month|day|weekend|\n",
            "+-----------+------------------+-------+----+-----+---+-------+\n",
            "|        1.0|179.90183767127465|    0.0| 0.0|    1|  1|      0|\n",
            "|       32.0|179.90183767127465|    0.0| 0.0|    1|  1|      0|\n",
            "|       41.0|179.90183767127465|    0.0| 0.0|    1|  1|      0|\n",
            "|       55.0|179.90183767127465|    0.0| 0.0|    1|  1|      0|\n",
            "|       69.0|179.90183767127465|    0.0| 0.0|    1|  1|      0|\n",
            "+-----------+------------------+-------+----+-----+---+-------+\n",
            "only showing top 5 rows\n",
            "\n"
          ]
        }
      ],
      "source": [
        "train.show(5)"
      ]
    },
    {
      "cell_type": "code",
      "execution_count": null,
      "metadata": {
        "id": "XMILAhDYrQGq"
      },
      "outputs": [],
      "source": [
        "from pyspark.ml import Pipeline\n",
        "from pyspark.ml.feature import StringIndexer, VectorAssembler\n",
        "from pyspark.ml.classification import RandomForestClassifier as SparkRandomForestClassifier\n",
        "from pyspark.sql.types import IntegerType\n",
        "\n",
        "inputColumns = ['building_id', 'meter_reading', 'time', 'month', 'day', 'weekend']\n",
        "outputColumn = \"anomaly\"\n",
        "\n",
        "\n",
        "for col_name in inputColumns:\n",
        "    train = train.withColumn(col_name, train[col_name].cast(IntegerType()))\n",
        "\n",
        "vector_assembler = VectorAssembler(inputCols=inputColumns, outputCol=\"features\")\n",
        "\n",
        "rf =SparkRandomForestClassifier(labelCol=outputColumn, featuresCol=\"features\",numTrees=100)\n",
        "\n",
        "stages = [vector_assembler, rf]\n",
        "pipeline = Pipeline(stages=stages)\n",
        "\n",
        "\n",
        "(train_df, test_df) = train.randomSplit([0.8, 0.2], seed=10)\n",
        "\n",
        "\n",
        "pipeline_model = pipeline.fit(train_df)\n",
        "\n",
        "predictions = pipeline_model.transform(test_df)"
      ]
    },
    {
      "cell_type": "code",
      "execution_count": null,
      "metadata": {
        "colab": {
          "base_uri": "https://localhost:8080/"
        },
        "id": "11ietfPMsshQ",
        "outputId": "0aec86ab-f942-4af3-a623-d307af9aa661"
      },
      "outputs": [
        {
          "output_type": "stream",
          "name": "stdout",
          "text": [
            "Accuracy:  0.8011157104134183\n"
          ]
        }
      ],
      "source": [
        "from pyspark.ml.evaluation import BinaryClassificationEvaluator\n",
        "evaluator = BinaryClassificationEvaluator(labelCol=\"anomaly\")\n",
        "accuracy = evaluator.evaluate(predictions)\n",
        "print(\"Accuracy: \",accuracy)"
      ]
    },
    {
      "cell_type": "code",
      "execution_count": null,
      "metadata": {
        "id": "8c0W-IPDLv4H"
      },
      "outputs": [],
      "source": [
        "pipeline_model.write().overwrite().save(\"/content/trained_model\")"
      ]
    },
    {
      "cell_type": "code",
      "execution_count": null,
      "metadata": {
        "colab": {
          "base_uri": "https://localhost:8080/",
          "height": 646
        },
        "id": "xY3JwKDhL7JE",
        "outputId": "7ce74985-1a21-4e54-fc1f-294d4ed9e871"
      },
      "outputs": [
        {
          "output_type": "stream",
          "name": "stdout",
          "text": [
            "Setting queue=True in a Colab notebook requires sharing enabled. Setting `share=True` (you can turn this off by setting `share=False` in `launch()` explicitly).\n",
            "\n",
            "Colab notebook detected. To show errors in colab notebook, set debug=True in launch()\n",
            "Running on public URL: https://1cc15f4fa79a22340d.gradio.live\n",
            "\n",
            "This share link expires in 72 hours. For free permanent hosting and GPU upgrades, run `gradio deploy` from Terminal to deploy to Spaces (https://huggingface.co/spaces)\n"
          ]
        },
        {
          "output_type": "display_data",
          "data": {
            "text/plain": [
              "<IPython.core.display.HTML object>"
            ],
            "text/html": [
              "<div><iframe src=\"https://1cc15f4fa79a22340d.gradio.live\" width=\"100%\" height=\"500\" allow=\"autoplay; camera; microphone; clipboard-read; clipboard-write;\" frameborder=\"0\" allowfullscreen></iframe></div>"
            ]
          },
          "metadata": {}
        },
        {
          "output_type": "execute_result",
          "data": {
            "text/plain": []
          },
          "metadata": {},
          "execution_count": 22
        }
      ],
      "source": [
        "import gradio as gr\n",
        "from pyspark.ml import PipelineModel\n",
        "from pyspark.sql import SparkSession\n",
        "from pyspark.ml.feature import VectorAssembler\n",
        "from pyspark.ml.evaluation import BinaryClassificationEvaluator\n",
        "\n",
        "\n",
        "loaded_model = PipelineModel.load(\"/content/trained_model\")\n",
        "\n",
        "def predict(building_id, meter_reading, time, month, day, weekend):\n",
        "\n",
        "    user_input = spark.createDataFrame([(building_id, meter_reading, time, month, day, weekend)],\n",
        "                                       [\"building_id\", \"meter_reading\", \"time\", \"month\", \"day\", \"weekend\"])\n",
        "\n",
        "\n",
        "    input_columns = [\"building_id\", \"meter_reading\", \"time\", \"month\", \"day\", \"weekend\"]\n",
        "    assembler = VectorAssembler(inputCols=input_columns, outputCol=\"features\")\n",
        "    user_input = assembler.transform(user_input)\n",
        "    try:\n",
        "      prediction_result = predictions.select(\"prediction\").first()[0]\n",
        "    except Exception as e:\n",
        "      print(\"Error occurred during prediction:\", e)\n",
        "      prediction_result = None\n",
        "    return prediction_result\n",
        "\n",
        "\n",
        "iface = gr.Interface(fn=predict,\n",
        "                     inputs=[\"number\", \"number\", \"number\", \"number\", \"number\", \"number\"],\n",
        "                     outputs=\"label\")\n",
        "\n",
        "\n",
        "iface.launch()\n"
      ]
    }
  ],
  "metadata": {
    "colab": {
      "provenance": []
    },
    "kernelspec": {
      "display_name": "Python 3",
      "name": "python3"
    },
    "language_info": {
      "name": "python"
    }
  },
  "nbformat": 4,
  "nbformat_minor": 0
}